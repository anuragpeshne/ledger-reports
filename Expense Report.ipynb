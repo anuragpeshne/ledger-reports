{
 "cells": [
  {
   "cell_type": "markdown",
   "id": "72bac405",
   "metadata": {},
   "source": [
    "# Expense Summary"
   ]
  },
  {
   "cell_type": "code",
   "execution_count": null,
   "id": "e140d504",
   "metadata": {},
   "outputs": [],
   "source": [
    "import json\n",
    "from os import getcwd\n",
    "from datetime import datetime\n",
    "from data_manager import get_monthly_expenses, get_trend_expenses\n",
    "from subprocess import check_output\n",
    "from utils import *\n",
    "import matplotlib.pyplot as plt"
   ]
  },
  {
   "cell_type": "code",
   "execution_count": null,
   "id": "dde9ada6",
   "metadata": {},
   "outputs": [],
   "source": [
    "with open(str(getcwd()) + \"/config.json\") as config_file:\n",
    "    config = json.load(config_file)"
   ]
  },
  {
   "cell_type": "code",
   "execution_count": null,
   "id": "333b0d78",
   "metadata": {},
   "outputs": [],
   "source": [
    "today = datetime.now()\n",
    "last_month = str(today.month - 1 if today.month > 1 else 12)\n",
    "last_month_year = str(today.year if today.month > 1 else today.year - 1)\n",
    "print(\"Generating report for {0}: {1}\".format(last_month_year, last_month))"
   ]
  },
  {
   "cell_type": "markdown",
   "id": "19094885",
   "metadata": {},
   "source": [
    "## Monthly Summary"
   ]
  },
  {
   "cell_type": "code",
   "execution_count": null,
   "id": "c78b61b4",
   "metadata": {},
   "outputs": [],
   "source": [
    "parsed_data = get_monthly_expenses(last_month_year, last_month)\n",
    "amounts, labels = zip(*parsed_data)"
   ]
  },
  {
   "cell_type": "code",
   "execution_count": null,
   "id": "5102554a",
   "metadata": {},
   "outputs": [],
   "source": [
    "fig, ax = plt.subplots(figsize=(6, 6))\n",
    "ax.pie(amounts, labels=labels, autopct='%.1f%%')\n",
    "plt.show()"
   ]
  },
  {
   "cell_type": "markdown",
   "id": "a1d0e919",
   "metadata": {},
   "source": [
    "## Yearly Trends"
   ]
  },
  {
   "cell_type": "code",
   "execution_count": null,
   "id": "d07d37db",
   "metadata": {},
   "outputs": [],
   "source": [
    "months = ['Jan', 'Feb', 'Mar', 'Apr', 'May', 'Jun', 'Jul', 'Aug', 'Sep', 'Oct', 'Nov', 'Dec']"
   ]
  },
  {
   "cell_type": "markdown",
   "id": "1d81d043",
   "metadata": {},
   "source": [
    "### Electricity"
   ]
  },
  {
   "cell_type": "code",
   "execution_count": null,
   "id": "49225e4a",
   "metadata": {},
   "outputs": [],
   "source": [
    "electricity_yearly_data = get_trend_expenses(last_month_year, term=\"Utilities:Electricity\", years_to_compare=3)\n",
    "electricity_yearly_data"
   ]
  },
  {
   "cell_type": "markdown",
   "id": "4edda7b6",
   "metadata": {},
   "source": [
    "### Grocery"
   ]
  },
  {
   "cell_type": "code",
   "execution_count": null,
   "id": "801d4e85",
   "metadata": {},
   "outputs": [],
   "source": [
    "grocery_yearly_data = get_trend_expenses(last_month_year, term=\"Expenses:Grocery\", years_to_compare=3)\n",
    "grocery_yearly_data"
   ]
  },
  {
   "cell_type": "code",
   "execution_count": null,
   "id": "a2e7d2be",
   "metadata": {},
   "outputs": [],
   "source": []
  }
 ],
 "metadata": {
  "kernelspec": {
   "display_name": "Python 3 (ipykernel)",
   "language": "python",
   "name": "python3"
  },
  "language_info": {
   "codemirror_mode": {
    "name": "ipython",
    "version": 3
   },
   "file_extension": ".py",
   "mimetype": "text/x-python",
   "name": "python",
   "nbconvert_exporter": "python",
   "pygments_lexer": "ipython3",
   "version": "3.9.16"
  }
 },
 "nbformat": 4,
 "nbformat_minor": 5
}
